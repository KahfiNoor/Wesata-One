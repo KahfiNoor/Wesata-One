{
  "nbformat": 4,
  "nbformat_minor": 0,
  "metadata": {
    "colab": {
      "provenance": []
    },
    "kernelspec": {
      "name": "python3",
      "display_name": "Python 3"
    },
    "language_info": {
      "name": "python"
    }
  },
  "cells": [
    {
      "cell_type": "code",
      "execution_count": 16,
      "metadata": {
        "id": "yVYTAcgxCLtr"
      },
      "outputs": [],
      "source": [
        "import numpy as np\n",
        "import pandas as pd\n",
        "import pandas as pd\n",
        "import tensorflow as tf\n",
        "from tensorflow.keras.models import Sequential\n",
        "from tensorflow.keras.layers import Dense\n",
        "from sklearn.model_selection import train_test_split\n",
        "from sklearn.preprocessing import StandardScaler"
      ]
    },
    {
      "cell_type": "code",
      "source": [
        "# URLs to the datasets\n",
        "url_tourism = \"https://raw.githubusercontent.com/aidulfitri/WesataOne-ML/main/data/tourism_with_id.csv\"\n",
        "url_rating = \"https://raw.githubusercontent.com/aidulfitri/WesataOne-ML/main/data/tourism_rating.csv\"\n"
      ],
      "metadata": {
        "id": "lSjqlrSwCewL"
      },
      "execution_count": 18,
      "outputs": []
    },
    {
      "cell_type": "code",
      "source": [
        "# Reading the datasets\n",
        "df_places = pd.read_csv(url_tourism)\n",
        "rating_df = pd.read_csv(url_rating)"
      ],
      "metadata": {
        "id": "BbflNPkuCi7M"
      },
      "execution_count": 19,
      "outputs": []
    },
    {
      "cell_type": "code",
      "source": [
        "# Selecting necessary columns\n",
        "data_place = df_places[[\"Place_Id\", \"Place_Name\", \"Category\", \"City\", \"Description\", \"Rating\"]]\n",
        "rating_df = rating_df[[\"User_Id\", \"Place_Id\", \"Place_Ratings\"]]"
      ],
      "metadata": {
        "id": "UPTeGR8JClCa"
      },
      "execution_count": 20,
      "outputs": []
    },
    {
      "cell_type": "code",
      "source": [
        "data_place.drop_duplicates(inplace=True)\n",
        "data_place.dropna(inplace=True)"
      ],
      "metadata": {
        "colab": {
          "base_uri": "https://localhost:8080/"
        },
        "id": "JGGAYC4bCn1Y",
        "outputId": "bc3b34ea-9d7e-45af-8254-e35d28c6bc92"
      },
      "execution_count": 21,
      "outputs": [
        {
          "output_type": "stream",
          "name": "stderr",
          "text": [
            "<ipython-input-21-c3270c075c9c>:1: SettingWithCopyWarning: \n",
            "A value is trying to be set on a copy of a slice from a DataFrame\n",
            "\n",
            "See the caveats in the documentation: https://pandas.pydata.org/pandas-docs/stable/user_guide/indexing.html#returning-a-view-versus-a-copy\n",
            "  data_place.drop_duplicates(inplace=True)\n",
            "<ipython-input-21-c3270c075c9c>:2: SettingWithCopyWarning: \n",
            "A value is trying to be set on a copy of a slice from a DataFrame\n",
            "\n",
            "See the caveats in the documentation: https://pandas.pydata.org/pandas-docs/stable/user_guide/indexing.html#returning-a-view-versus-a-copy\n",
            "  data_place.dropna(inplace=True)\n"
          ]
        }
      ]
    },
    {
      "cell_type": "code",
      "source": [
        "# One-hot encode Category and City features\n",
        "data_place = pd.get_dummies(data_place, columns=[\"Category\", \"City\"])\n"
      ],
      "metadata": {
        "id": "7gMEKtQoCp4m"
      },
      "execution_count": 22,
      "outputs": []
    },
    {
      "cell_type": "code",
      "source": [
        "# Preparing the feature set\n",
        "place_features = data_place.drop(columns=[\"Place_Id\", \"Place_Name\", \"Description\", \"Rating\"]).values\n"
      ],
      "metadata": {
        "id": "MfxTBrVxCrh0"
      },
      "execution_count": 23,
      "outputs": []
    },
    {
      "cell_type": "code",
      "source": [
        "# Standardize features\n",
        "scaler = StandardScaler()\n",
        "place_features_scaled = scaler.fit_transform(place_features)"
      ],
      "metadata": {
        "id": "QtShfweqCtc_"
      },
      "execution_count": 26,
      "outputs": []
    },
    {
      "cell_type": "code",
      "source": [
        "# Splitting the data into training and test sets\n",
        "X_train, X_test, y_train, y_test = train_test_split(place_features_scaled, data_place[\"Rating\"], test_size=0.2, random_state=1)\n"
      ],
      "metadata": {
        "id": "GWenX5IFCuSX"
      },
      "execution_count": 27,
      "outputs": []
    },
    {
      "cell_type": "code",
      "source": [
        "# Building the TensorFlow model\n",
        "model = Sequential([\n",
        "    Dense(64, activation='relu', input_shape=(X_train.shape[1],)),\n",
        "    Dense(32, activation='relu'),\n",
        "    Dense(1)\n",
        "])"
      ],
      "metadata": {
        "id": "ZOfdZMZ6CxLF"
      },
      "execution_count": 28,
      "outputs": []
    },
    {
      "cell_type": "code",
      "source": [
        "# Compiling the model\n",
        "model.compile(optimizer='adam', loss='mean_squared_error', metrics=['mse'])\n"
      ],
      "metadata": {
        "id": "lqx4QWpBCycF"
      },
      "execution_count": 29,
      "outputs": []
    },
    {
      "cell_type": "code",
      "source": [
        "# Training the model\n",
        "history = model.fit(X_train, y_train, epochs=20, batch_size=32, validation_split=0.2)\n"
      ],
      "metadata": {
        "colab": {
          "base_uri": "https://localhost:8080/"
        },
        "id": "lgoQzqqtC0kP",
        "outputId": "a792de88-7ad4-4318-9c72-df6e187568d2"
      },
      "execution_count": 30,
      "outputs": [
        {
          "output_type": "stream",
          "name": "stdout",
          "text": [
            "Epoch 1/20\n",
            "9/9 [==============================] - 1s 29ms/step - loss: 17.9528 - mse: 17.9528 - val_loss: 15.4404 - val_mse: 15.4404\n",
            "Epoch 2/20\n",
            "9/9 [==============================] - 0s 7ms/step - loss: 13.7210 - mse: 13.7210 - val_loss: 11.7005 - val_mse: 11.7005\n",
            "Epoch 3/20\n",
            "9/9 [==============================] - 0s 6ms/step - loss: 9.8609 - mse: 9.8609 - val_loss: 8.1943 - val_mse: 8.1943\n",
            "Epoch 4/20\n",
            "9/9 [==============================] - 0s 8ms/step - loss: 6.4166 - mse: 6.4166 - val_loss: 5.0415 - val_mse: 5.0415\n",
            "Epoch 5/20\n",
            "9/9 [==============================] - 0s 8ms/step - loss: 3.6371 - mse: 3.6371 - val_loss: 2.6002 - val_mse: 2.6002\n",
            "Epoch 6/20\n",
            "9/9 [==============================] - 0s 7ms/step - loss: 1.7613 - mse: 1.7613 - val_loss: 1.1576 - val_mse: 1.1576\n",
            "Epoch 7/20\n",
            "9/9 [==============================] - 0s 7ms/step - loss: 0.9021 - mse: 0.9021 - val_loss: 0.5308 - val_mse: 0.5308\n",
            "Epoch 8/20\n",
            "9/9 [==============================] - 0s 6ms/step - loss: 0.5138 - mse: 0.5138 - val_loss: 0.2769 - val_mse: 0.2769\n",
            "Epoch 9/20\n",
            "9/9 [==============================] - 0s 9ms/step - loss: 0.2740 - mse: 0.2740 - val_loss: 0.1554 - val_mse: 0.1554\n",
            "Epoch 10/20\n",
            "9/9 [==============================] - 0s 8ms/step - loss: 0.1461 - mse: 0.1461 - val_loss: 0.1050 - val_mse: 0.1050\n",
            "Epoch 11/20\n",
            "9/9 [==============================] - 0s 8ms/step - loss: 0.0940 - mse: 0.0940 - val_loss: 0.0830 - val_mse: 0.0830\n",
            "Epoch 12/20\n",
            "9/9 [==============================] - 0s 8ms/step - loss: 0.0749 - mse: 0.0749 - val_loss: 0.0678 - val_mse: 0.0678\n",
            "Epoch 13/20\n",
            "9/9 [==============================] - 0s 6ms/step - loss: 0.0612 - mse: 0.0612 - val_loss: 0.0597 - val_mse: 0.0597\n",
            "Epoch 14/20\n",
            "9/9 [==============================] - 0s 6ms/step - loss: 0.0533 - mse: 0.0533 - val_loss: 0.0567 - val_mse: 0.0567\n",
            "Epoch 15/20\n",
            "9/9 [==============================] - 0s 9ms/step - loss: 0.0495 - mse: 0.0495 - val_loss: 0.0548 - val_mse: 0.0548\n",
            "Epoch 16/20\n",
            "9/9 [==============================] - 0s 10ms/step - loss: 0.0469 - mse: 0.0469 - val_loss: 0.0529 - val_mse: 0.0529\n",
            "Epoch 17/20\n",
            "9/9 [==============================] - 0s 10ms/step - loss: 0.0450 - mse: 0.0450 - val_loss: 0.0519 - val_mse: 0.0519\n",
            "Epoch 18/20\n",
            "9/9 [==============================] - 0s 10ms/step - loss: 0.0437 - mse: 0.0437 - val_loss: 0.0511 - val_mse: 0.0511\n",
            "Epoch 19/20\n",
            "9/9 [==============================] - 0s 8ms/step - loss: 0.0424 - mse: 0.0424 - val_loss: 0.0507 - val_mse: 0.0507\n",
            "Epoch 20/20\n",
            "9/9 [==============================] - 0s 6ms/step - loss: 0.0413 - mse: 0.0413 - val_loss: 0.0498 - val_mse: 0.0498\n"
          ]
        }
      ]
    },
    {
      "cell_type": "markdown",
      "source": [
        "#Recommendation for Users"
      ],
      "metadata": {
        "id": "j-zQTcsKOUV3"
      }
    },
    {
      "cell_type": "code",
      "source": [
        "# Function to get user profile from rated places\n",
        "def get_user_profile(user_id, rating_df, data_place, place_features):\n",
        "    user_ratings = rating_df[rating_df['User_Id'] == user_id]\n",
        "    rated_places = user_ratings.merge(data_place, on='Place_Id')\n",
        "    rated_place_ids = rated_places['Place_Id'].values\n",
        "    rated_place_features = place_features[data_place['Place_Id'].isin(rated_place_ids)]\n",
        "    user_profile = rated_place_features.mean(axis=0)\n",
        "    return user_profile"
      ],
      "metadata": {
        "id": "9_2ZLGr8C4Gx"
      },
      "execution_count": 31,
      "outputs": []
    },
    {
      "cell_type": "code",
      "source": [
        "def recommend_places(user_id, rating_df, data_place, place_features, model, city_filter=None, category_filter=None):\n",
        "    user_profile = get_user_profile(user_id, rating_df, data_place, place_features)\n",
        "    user_profile = user_profile.reshape(1, -1)\n",
        "\n",
        "\n",
        "    predicted_ratings = model.predict(place_features)\n",
        "    data_place['predicted_rating'] = predicted_ratings\n",
        "\n",
        "    if city_filter:\n",
        "        city_col = 'City_' + city_filter\n",
        "        if city_col in data_place.columns:\n",
        "            data_place = data_place[data_place[city_col] == 1]\n",
        "    if category_filter:\n",
        "        category_col = 'Category_' + category_filter\n",
        "        if category_col in data_place.columns:\n",
        "            data_place = data_place[data_place[category_col] == 1]\n",
        "\n",
        "    recommendations = data_place.sort_values(by='predicted_rating', ascending=False).head(20)\n",
        "    recommendations = recommendations[['Place_Name', 'City_' + city_filter, 'Description', 'predicted_rating']]\n",
        "\n",
        "    return recommendations\n"
      ],
      "metadata": {
        "id": "8q4kzSEiFL8b"
      },
      "execution_count": 36,
      "outputs": []
    },
    {
      "cell_type": "code",
      "source": [
        "user_id = 1\n",
        "city_filter = 'Jakarta'\n",
        "category_filter = 'Budaya'\n",
        "\n",
        "recommendations = recommend_places(user_id, rating_df, data_place, place_features_scaled, model, city_filter, category_filter)\n",
        "print(recommendations)\n"
      ],
      "metadata": {
        "colab": {
          "base_uri": "https://localhost:8080/"
        },
        "id": "k96ey81LFPaV",
        "outputId": "290345b0-9ce2-4ada-b0dc-8217552b1bb8"
      },
      "execution_count": 37,
      "outputs": [
        {
          "output_type": "stream",
          "name": "stdout",
          "text": [
            "14/14 [==============================] - 0s 2ms/step\n",
            "                        Place_Name  City_Jakarta  \\\n",
            "31                    Setu Babakan          True   \n",
            "63  Museum Sasmita Loka Ahmad Yani          True   \n",
            "62     Museum Kebangkitan Nasional          True   \n",
            "0                 Monumen Nasional          True   \n",
            "49                 Museum Joang 45          True   \n",
            "73             Museum Tengah Kebun          True   \n",
            "72                 Museum Perangko          True   \n",
            "69           Perpustakaan Nasional          True   \n",
            "68                 Freedom Library          True   \n",
            "65            Museum Layang-layang          True   \n",
            "64         Museum Basoeki Abdullah          True   \n",
            "60                 Tugu Proklamasi          True   \n",
            "59                  Museum Tekstil          True   \n",
            "58            Museum Sumpah Pemuda          True   \n",
            "52                  Rumah Sipitung          True   \n",
            "51                    Kampung Cina          True   \n",
            "48           Galeri Indonesia Kaya          True   \n",
            "1                         Kota Tua          True   \n",
            "47            Taman Ismail Marzuki          True   \n",
            "43          Monumen Selamat Datang          True   \n",
            "\n",
            "                                          Description  predicted_rating  \n",
            "31  Setu Babakan atau Danau Babakan terletak di Sr...          4.613406  \n",
            "63  Museum Sasmita Loka Ahmad Yani adalah salah sa...          4.613406  \n",
            "62  Museum Kebangkitan Nasional (bahasa Inggris: M...          4.613406  \n",
            "0   Monumen Nasional atau yang populer disingkat d...          4.613406  \n",
            "49  Gedung Joang '45 atau Museum Joang 45 adalah s...          4.613406  \n",
            "73  Museum di Tengah Kebun adalah sebuah museum pe...          4.613406  \n",
            "72  Museum perangko dibangun dengan bentuk banguna...          4.613406  \n",
            "69  Perpustakaan Nasional adalah perpustakaan yang...          4.613406  \n",
            "68  Freedom Library adalah perpustakaan buku yang ...          4.613406  \n",
            "65  Museum Layang-Layang adalah sebuah museum yang...          4.613406  \n",
            "64  Museum Basoeki Abdullah berisi lukisan dan kol...          4.613406  \n",
            "60  Tugu Proklamasi adalah tugu peringatan proklam...          4.613406  \n",
            "59  Museum cinta Tekstil menempati gedung tua di J...          4.613406  \n",
            "58  Museum Sumpah Pemuda adalah sebuah museum seja...          4.613406  \n",
            "52  Rumah Si Pitung di Marunda, Jakarta Utara, Ind...          4.613406  \n",
            "51  KAMPUNG China adalah hunian dan kawasan perdag...          4.613406  \n",
            "48  Galeri Indonesia Kaya (disingkat GIK) adalah r...          4.613406  \n",
            "1   Kota tua di Jakarta, yang juga bernama Kota Tu...          4.613406  \n",
            "47  Pusat Kesenian Jakarta Taman Ismail Marzuki ya...          4.613406  \n",
            "43  Monumen Selamat Datang adalah sebuah monumen y...          4.613406  \n"
          ]
        }
      ]
    },
    {
      "cell_type": "markdown",
      "source": [
        "# Recommendations on the main display"
      ],
      "metadata": {
        "id": "vyrw4KOFNzrO"
      }
    },
    {
      "cell_type": "code",
      "source": [
        "def recommend_popular_places(data_place, num_recommendations=20):\n",
        "    popular_places = data_place.sort_values(by='Rating', ascending=False).head(num_recommendations)\n",
        "\n",
        "    recommendations = popular_places[['Place_Name', 'Description', 'Rating']]\n",
        "\n",
        "    return recommendations\n",
        "\n",
        "# Contoh penggunaan untuk pengguna baru\n",
        "recommendations_for_new_user = recommend_popular_places(data_place)\n",
        "print(recommendations_for_new_user)\n"
      ],
      "metadata": {
        "colab": {
          "base_uri": "https://localhost:8080/"
        },
        "id": "0_AF6Q4oHNtf",
        "outputId": "db0e5277-c00f-496f-bc87-c83ad4294203"
      },
      "execution_count": 38,
      "outputs": [
        {
          "output_type": "stream",
          "name": "stdout",
          "text": [
            "                                    Place_Name  \\\n",
            "45                            Pulau Semak Daun   \n",
            "279          Gereja Tiberias Indonesia Bandung   \n",
            "371                   Gua Maria Kerep Ambarawa   \n",
            "410                  Masjid Muhammad Cheng Hoo   \n",
            "411                   Masjid Nasional Al-Akbar   \n",
            "305                          Sungai Palayangan   \n",
            "277              Masjid Daarut Tauhiid Bandung   \n",
            "123               Kauman Pakualaman Yogyakarta   \n",
            "287                          Masjid Salman ITB   \n",
            "297                             Gunung Lalakon   \n",
            "48                       Galeri Indonesia Kaya   \n",
            "22                             Gereja Katedral   \n",
            "278          Masjid Agung Trans Studio Bandung   \n",
            "69                       Perpustakaan Nasional   \n",
            "263       Gereja Katedral Santo Petrus Bandung   \n",
            "347                            Pura Giri Natha   \n",
            "247                       NuArt Sculpture Park   \n",
            "91                  Nol Kilometer Jl.Malioboro   \n",
            "94          Desa Wisata Sungai Code Jogja Kota   \n",
            "436  Gereja Perawan Maria Tak Berdosa Surabaya   \n",
            "\n",
            "                                           Description  Rating  \n",
            "45   Pulau Semak Daun merupakan salah satu pulau ya...     5.0  \n",
            "279  Gereja Tiberias Indonesia (GTI), atau Tiberias...     5.0  \n",
            "371  Gua Maria Kerep (Gua Maria Kerep Ambarawa, dis...     4.9  \n",
            "410  Masjid Cheng Hoo Surabaya adalah Masjid bernua...     4.9  \n",
            "411  Masjid Nasional Al Akbar (atau biasa disebut M...     4.9  \n",
            "305  Sungai Palayangan terletak di Kawasan Objek Wi...     4.9  \n",
            "277  pada bulan Juli 1993 berdirilah sebuah masjid ...     4.9  \n",
            "123  Pakualaman adalah sebuah kecamatan di Kota Yog...     4.9  \n",
            "287  Masjid Salman ITB adalah masjid kampus yang te...     4.9  \n",
            "297  Gunung Lalakon merupakan sebuah gunung yang te...     4.8  \n",
            "48   Galeri Indonesia Kaya (disingkat GIK) adalah r...     4.8  \n",
            "22   Gereja Katedral Jakarta, atau bernama resmi Ge...     4.8  \n",
            "278  Masjid Agung Trans Studio Bandung (TSB) berdir...     4.8  \n",
            "69   Perpustakaan Nasional adalah perpustakaan yang...     4.8  \n",
            "263  Gereja Katedral Bandung, atau Katedral Santo P...     4.8  \n",
            "347  Awal berdirinya Pura Agung Giri Natha tidak te...     4.8  \n",
            "247  NuArt Sculpture Park ini merupakan sebuah gall...     4.8  \n",
            "91   Walaupun hanyalah sebuah persimpangan, namun p...     4.8  \n",
            "94   Kampung Code berada di Kelurahan Kotabaru, Kec...     4.8  \n",
            "436  Gereja Katolik Kelahiran Santa Perawan Maria m...     4.8  \n"
          ]
        }
      ]
    },
    {
      "cell_type": "markdown",
      "source": [
        "#Usage example for new users"
      ],
      "metadata": {
        "id": "v9G0A63wOPcj"
      }
    },
    {
      "cell_type": "code",
      "source": [
        "def recommend_popular_places_with_filter(data_place, city_filter=None, category_filter=None, num_recommendations=20):\n",
        "    filtered_places = data_place\n",
        "\n",
        "    if city_filter:\n",
        "        filtered_places = filtered_places[filtered_places['City_' + city_filter] == 1]\n",
        "    if category_filter:\n",
        "        filtered_places = filtered_places[filtered_places['Category_' + category_filter] == 1]\n",
        "\n",
        "    # Urutkan tempat berdasarkan rating tertinggi\n",
        "    popular_places = filtered_places.sort_values(by='Rating', ascending=False).head(num_recommendations)\n",
        "\n",
        "    # Pilih kolom yang diperlukan\n",
        "    recommendations = popular_places[['Place_Name', 'Description', 'Rating']]\n",
        "\n",
        "    return recommendations"
      ],
      "metadata": {
        "id": "b4qf8EoBHfv-"
      },
      "execution_count": 40,
      "outputs": []
    },
    {
      "cell_type": "code",
      "source": [
        "# Contoh penggunaan untuk pengguna baru dengan filter kategori dan wilayah\n",
        "city_filter = 'Jakarta'\n",
        "category_filter = 'Budaya'\n",
        "\n",
        "recommendations_for_new_user = recommend_popular_places_with_filter(data_place, city_filter, category_filter)\n",
        "print(recommendations_for_new_user)"
      ],
      "metadata": {
        "colab": {
          "base_uri": "https://localhost:8080/"
        },
        "id": "QoVwgmg3Hjp5",
        "outputId": "376725f2-533e-4187-9279-9af32e10563a"
      },
      "execution_count": 41,
      "outputs": [
        {
          "output_type": "stream",
          "name": "stdout",
          "text": [
            "                          Place_Name  \\\n",
            "48             Galeri Indonesia Kaya   \n",
            "69             Perpustakaan Nasional   \n",
            "43            Monumen Selamat Datang   \n",
            "73               Museum Tengah Kebun   \n",
            "17             Museum Bank Indonesia   \n",
            "64           Museum Basoeki Abdullah   \n",
            "63    Museum Sasmita Loka Ahmad Yani   \n",
            "62       Museum Kebangkitan Nasional   \n",
            "60                   Tugu Proklamasi   \n",
            "58              Museum Sumpah Pemuda   \n",
            "39         Galeri Nasional Indonesia   \n",
            "49                   Museum Joang 45   \n",
            "1                           Kota Tua   \n",
            "47              Taman Ismail Marzuki   \n",
            "0                   Monumen Nasional   \n",
            "23                   Museum Nasional   \n",
            "37  Istana Negara Republik Indonesia   \n",
            "16                 Museum Fatahillah   \n",
            "81             Museum Satria Mandala   \n",
            "52                    Rumah Sipitung   \n",
            "\n",
            "                                          Description  Rating  \n",
            "48  Galeri Indonesia Kaya (disingkat GIK) adalah r...     4.8  \n",
            "69  Perpustakaan Nasional adalah perpustakaan yang...     4.8  \n",
            "43  Monumen Selamat Datang adalah sebuah monumen y...     4.7  \n",
            "73  Museum di Tengah Kebun adalah sebuah museum pe...     4.7  \n",
            "17  Museum Bank Indonesia adalah sebuah museum di ...     4.7  \n",
            "64  Museum Basoeki Abdullah berisi lukisan dan kol...     4.7  \n",
            "63  Museum Sasmita Loka Ahmad Yani adalah salah sa...     4.7  \n",
            "62  Museum Kebangkitan Nasional (bahasa Inggris: M...     4.7  \n",
            "60  Tugu Proklamasi adalah tugu peringatan proklam...     4.7  \n",
            "58  Museum Sumpah Pemuda adalah sebuah museum seja...     4.7  \n",
            "39  Galeri Nasional Indonesia (bahasa Inggris: Nat...     4.7  \n",
            "49  Gedung Joang '45 atau Museum Joang 45 adalah s...     4.6  \n",
            "1   Kota tua di Jakarta, yang juga bernama Kota Tu...     4.6  \n",
            "47  Pusat Kesenian Jakarta Taman Ismail Marzuki ya...     4.6  \n",
            "0   Monumen Nasional atau yang populer disingkat d...     4.6  \n",
            "23  Museum Nasional Republik Indonesia atau Museum...     4.6  \n",
            "37  Istana Negara merupakan pusat kegiatan pemerin...     4.6  \n",
            "16  Museum Fatahillah memiliki nama resmi Museum S...     4.6  \n",
            "81  Museum Satria Mandala adalah museum sejarah pe...     4.6  \n",
            "52  Rumah Si Pitung di Marunda, Jakarta Utara, Ind...     4.5  \n"
          ]
        }
      ]
    },
    {
      "cell_type": "markdown",
      "source": [
        "# Plot"
      ],
      "metadata": {
        "id": "sKQahktoOLAS"
      }
    },
    {
      "cell_type": "code",
      "source": [
        "import matplotlib.pyplot as plt\n",
        "\n",
        "# Ambil data loss dari history\n",
        "train_loss = history.history['loss']\n",
        "val_loss = history.history['val_loss']\n",
        "\n",
        "# Plot loss\n",
        "plt.plot(train_loss, label='Training Loss')\n",
        "plt.plot(val_loss, label='Validation Loss')\n",
        "plt.title('Model Loss')\n",
        "plt.xlabel('Epoch')\n",
        "plt.ylabel('Loss')\n",
        "plt.legend()\n",
        "plt.show()\n"
      ],
      "metadata": {
        "colab": {
          "base_uri": "https://localhost:8080/",
          "height": 472
        },
        "id": "jw0Y4hKjKw7R",
        "outputId": "fd08ca67-3399-4c5a-f627-61563098edf6"
      },
      "execution_count": 42,
      "outputs": [
        {
          "output_type": "display_data",
          "data": {
            "text/plain": [
              "<Figure size 640x480 with 1 Axes>"
            ],
            "image/png": "[encoded data removed]"
          },
          "metadata": {}
        }
      ]
    },
    {
      "cell_type": "code",
      "source": [
        "# Simpan model dalam format .h5\n",
        "model.save(\"wesataone.h5\")\n"
      ],
      "metadata": {
        "colab": {
          "base_uri": "https://localhost:8080/"
        },
        "id": "4rqIPnD2L5sn",
        "outputId": "dfffa9a4-e6ae-45de-a85c-cd926555c712"
      },
      "execution_count": 43,
      "outputs": [
        {
          "output_type": "stream",
          "name": "stderr",
          "text": [
            "/usr/local/lib/python3.10/dist-packages/keras/src/engine/training.py:3103: UserWarning: You are saving your model as an HDF5 file via `model.save()`. This file format is considered legacy. We recommend using instead the native Keras format, e.g. `model.save('my_model.keras')`.\n",
            "  saving_api.save_model(\n"
          ]
        }
      ]
    },
    {
      "cell_type": "code",
      "source": [
        "from google.colab import files\n",
        "\n",
        "# Unduh file .h5\n",
        "files.download(\"wesataone.h5\")\n"
      ],
      "metadata": {
        "colab": {
          "base_uri": "https://localhost:8080/",
          "height": 17
        },
        "id": "QU2VEHyfL7Ht",
        "outputId": "0cc24089-7470-4d50-8bb2-09c8ddf07d83"
      },
      "execution_count": 44,
      "outputs": [
        {
          "output_type": "display_data",
          "data": {
            "text/plain": [
              "<IPython.core.display.Javascript object>"
            ],
            "application/javascript": [
              "\n",
              "    async function download(id, filename, size) {\n",
              "      if (!google.colab.kernel.accessAllowed) {\n",
              "        return;\n",
              "      }\n",
              "      const div = document.createElement('div');\n",
              "      const label = document.createElement('label');\n",
              "      label.textContent = `Downloading \"${filename}\": `;\n",
              "      div.appendChild(label);\n",
              "      const progress = document.createElement('progress');\n",
              "      progress.max = size;\n",
              "      div.appendChild(progress);\n",
              "      document.body.appendChild(div);\n",
              "\n",
              "      const buffers = [];\n",
              "      let downloaded = 0;\n",
              "\n",
              "      const channel = await google.colab.kernel.comms.open(id);\n",
              "      // Send a message to notify the kernel that we're ready.\n",
              "      channel.send({})\n",
              "\n",
              "      for await (const message of channel.messages) {\n",
              "        // Send a message to notify the kernel that we're ready.\n",
              "        channel.send({})\n",
              "        if (message.buffers) {\n",
              "          for (const buffer of message.buffers) {\n",
              "            buffers.push(buffer);\n",
              "            downloaded += buffer.byteLength;\n",
              "            progress.value = downloaded;\n",
              "          }\n",
              "        }\n",
              "      }\n",
              "      const blob = new Blob(buffers, {type: 'application/binary'});\n",
              "      const a = document.createElement('a');\n",
              "      a.href = window.URL.createObjectURL(blob);\n",
              "      a.download = filename;\n",
              "      div.appendChild(a);\n",
              "      a.click();\n",
              "      div.remove();\n",
              "    }\n",
              "  "
            ]
          },
          "metadata": {}
        },
        {
          "output_type": "display_data",
          "data": {
            "text/plain": [
              "<IPython.core.display.Javascript object>"
            ],
            "application/javascript": [
              "download(\"download_bcec3dba-8625-45bf-9920-e790f1f7429d\", \"wesataone.h5\", 65336)"
            ]
          },
          "metadata": {}
        }
      ]
    },
    {
      "cell_type": "code",
      "source": [
        "# Simpan arsitektur model dalam format .json\n",
        "model_json = model.to_json()\n",
        "with open(\"modelwesataone_architecture.json\", \"w\") as json_file:\n",
        "    json_file.write(model_json)\n"
      ],
      "metadata": {
        "id": "OnsOTDQYMIKI"
      },
      "execution_count": 52,
      "outputs": []
    },
    {
      "cell_type": "code",
      "source": [
        "# Unduh file .json\n",
        "files.download(\"modelwesataone_architecture.json\")"
      ],
      "metadata": {
        "colab": {
          "base_uri": "https://localhost:8080/",
          "height": 17
        },
        "id": "LSwyVHsyMJYx",
        "outputId": "0cf1a0d5-af52-4d31-99a5-72b0ca8eeb06"
      },
      "execution_count": 53,
      "outputs": [
        {
          "output_type": "display_data",
          "data": {
            "text/plain": [
              "<IPython.core.display.Javascript object>"
            ],
            "application/javascript": [
              "\n",
              "    async function download(id, filename, size) {\n",
              "      if (!google.colab.kernel.accessAllowed) {\n",
              "        return;\n",
              "      }\n",
              "      const div = document.createElement('div');\n",
              "      const label = document.createElement('label');\n",
              "      label.textContent = `Downloading \"${filename}\": `;\n",
              "      div.appendChild(label);\n",
              "      const progress = document.createElement('progress');\n",
              "      progress.max = size;\n",
              "      div.appendChild(progress);\n",
              "      document.body.appendChild(div);\n",
              "\n",
              "      const buffers = [];\n",
              "      let downloaded = 0;\n",
              "\n",
              "      const channel = await google.colab.kernel.comms.open(id);\n",
              "      // Send a message to notify the kernel that we're ready.\n",
              "      channel.send({})\n",
              "\n",
              "      for await (const message of channel.messages) {\n",
              "        // Send a message to notify the kernel that we're ready.\n",
              "        channel.send({})\n",
              "        if (message.buffers) {\n",
              "          for (const buffer of message.buffers) {\n",
              "            buffers.push(buffer);\n",
              "            downloaded += buffer.byteLength;\n",
              "            progress.value = downloaded;\n",
              "          }\n",
              "        }\n",
              "      }\n",
              "      const blob = new Blob(buffers, {type: 'application/binary'});\n",
              "      const a = document.createElement('a');\n",
              "      a.href = window.URL.createObjectURL(blob);\n",
              "      a.download = filename;\n",
              "      div.appendChild(a);\n",
              "      a.click();\n",
              "      div.remove();\n",
              "    }\n",
              "  "
            ]
          },
          "metadata": {}
        },
        {
          "output_type": "display_data",
          "data": {
            "text/plain": [
              "<IPython.core.display.Javascript object>"
            ],
            "application/javascript": [
              "download(\"download_523bcc72-a917-46a8-947d-d24033a1c8fe\", \"modelwesataone_architecture.json\", 2269)"
            ]
          },
          "metadata": {}
        }
      ]
    }
  ]
}