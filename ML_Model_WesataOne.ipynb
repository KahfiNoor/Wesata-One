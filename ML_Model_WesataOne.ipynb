{
  "nbformat": 4,
  "nbformat_minor": 0,
  "metadata": {
    "colab": {
      "provenance": []
    },
    "kernelspec": {
      "name": "python3",
      "display_name": "Python 3"
    },
    "language_info": {
      "name": "python"
    }
  },
  "cells": [
    {
      "cell_type": "code",
      "execution_count": null,
      "metadata": {
        "id": "l3Q8O65vNfxN"
      },
      "outputs": [],
      "source": [
        "import numpy as np\n",
        "import pandas as pd\n",
        "import tensorflow as tf\n",
        "from tensorflow import keras\n",
        "from sklearn.model_selection import train_test_split"
      ]
    },
    {
      "cell_type": "code",
      "source": [
        "# URLs to the datasets\n",
        "url_tourism = \"https://raw.githubusercontent.com/aidulfitri/WesataOne-ML/main/data/tourism_with_id.csv\"\n",
        "url_rating = \"https://raw.githubusercontent.com/aidulfitri/WesataOne-ML/main/data/tourism_rating.csv\"\n",
        "\n",
        "# Reading the datasets\n",
        "df_places = pd.read_csv(url_tourism)\n",
        "rating_df = pd.read_csv(url_rating)"
      ],
      "metadata": {
        "id": "VPreXCv5Rzbl"
      },
      "execution_count": null,
      "outputs": []
    },
    {
      "cell_type": "code",
      "source": [
        "# Selecting necessary columns\n",
        "data_place = df_places[[\"Place_Id\", \"Place_Name\", \"Category\", \"City\", \"Rating\"]]\n",
        "rating_df = rating_df[[\"User_Id\", \"Place_Id\", \"Place_Ratings\"]]"
      ],
      "metadata": {
        "id": "PSUy0wqnR5VQ"
      },
      "execution_count": null,
      "outputs": []
    },
    {
      "cell_type": "code",
      "source": [
        "data_place.drop_duplicates(inplace = True)\n",
        "data_place.dropna(inplace=True)"
      ],
      "metadata": {
        "colab": {
          "base_uri": "https://localhost:8080/"
        },
        "id": "hRZ6eeIJZiRt",
        "outputId": "20b83a50-8446-405b-d1ea-6a100a8a8ed7"
      },
      "execution_count": null,
      "outputs": [
        {
          "output_type": "stream",
          "name": "stderr",
          "text": [
            "<ipython-input-4-6767f218f80d>:1: SettingWithCopyWarning: \n",
            "A value is trying to be set on a copy of a slice from a DataFrame\n",
            "\n",
            "See the caveats in the documentation: https://pandas.pydata.org/pandas-docs/stable/user_guide/indexing.html#returning-a-view-versus-a-copy\n",
            "  data_place.drop_duplicates(inplace = True)\n",
            "<ipython-input-4-6767f218f80d>:2: SettingWithCopyWarning: \n",
            "A value is trying to be set on a copy of a slice from a DataFrame\n",
            "\n",
            "See the caveats in the documentation: https://pandas.pydata.org/pandas-docs/stable/user_guide/indexing.html#returning-a-view-versus-a-copy\n",
            "  data_place.dropna(inplace=True)\n"
          ]
        }
      ]
    },
    {
      "cell_type": "code",
      "source": [
        "# One-hot encode Category and City features\n",
        "data_place = pd.get_dummies(data_place, columns=[\"Category\", \"City\"])"
      ],
      "metadata": {
        "id": "yGgJjRvLR9nV"
      },
      "execution_count": null,
      "outputs": []
    },
    {
      "cell_type": "code",
      "source": [
        "# Preparing the feature set\n",
        "X = data_place.drop(columns=[\"Place_Id\", \"Place_Name\", \"Rating\"])\n",
        "y = data_place[\"Rating\"]"
      ],
      "metadata": {
        "id": "uVEFYsxuSAE9"
      },
      "execution_count": null,
      "outputs": []
    },
    {
      "cell_type": "code",
      "source": [
        "# Splitting the data into training and test sets\n",
        "X_train, X_test, y_train, y_test = train_test_split(X, y, test_size=0.2, random_state=1)\n"
      ],
      "metadata": {
        "id": "8qAksDanSB0y"
      },
      "execution_count": null,
      "outputs": []
    },
    {
      "cell_type": "code",
      "source": [
        "# Building the TensorFlow model\n",
        "model = keras.Sequential([\n",
        "    keras.layers.Dense(64, activation='relu', input_shape=(X_train.shape[1],)),\n",
        "    keras.layers.Dense(32, activation='relu'),\n",
        "    keras.layers.Dense(1)\n",
        "])"
      ],
      "metadata": {
        "id": "UzI9ER9uSFG8"
      },
      "execution_count": null,
      "outputs": []
    },
    {
      "cell_type": "code",
      "source": [
        "# Compiling the model\n",
        "cost_fn = tf.keras.losses.MeanSquaredError()\n",
        "opt = keras.optimizers.Adam()\n",
        "model.compile(optimizer=opt,\n",
        "              loss=cost_fn,\n",
        "              metrics=['mse'])"
      ],
      "metadata": {
        "id": "-_YMbZSkSGN3"
      },
      "execution_count": null,
      "outputs": []
    },
    {
      "cell_type": "code",
      "source": [
        "# Training the model\n",
        "history = model.fit(X_train, y_train, epochs=20, batch_size=32, validation_split=0.2)\n",
        "\n"
      ],
      "metadata": {
        "colab": {
          "base_uri": "https://localhost:8080/"
        },
        "id": "68Qq22_rSIvD",
        "outputId": "748fc2ba-bc08-4f05-a38b-a28e0aa497e2"
      },
      "execution_count": null,
      "outputs": [
        {
          "output_type": "stream",
          "name": "stdout",
          "text": [
            "Epoch 1/20\n",
            "9/9 [==============================] - 3s 46ms/step - loss: 19.9206 - mse: 19.9206 - val_loss: 17.9509 - val_mse: 17.9509\n",
            "Epoch 2/20\n",
            "9/9 [==============================] - 0s 11ms/step - loss: 17.3736 - mse: 17.3736 - val_loss: 15.6447 - val_mse: 15.6447\n",
            "Epoch 3/20\n",
            "9/9 [==============================] - 0s 15ms/step - loss: 14.9383 - mse: 14.9383 - val_loss: 13.1196 - val_mse: 13.1196\n",
            "Epoch 4/20\n",
            "9/9 [==============================] - 0s 21ms/step - loss: 12.2416 - mse: 12.2416 - val_loss: 10.2847 - val_mse: 10.2847\n",
            "Epoch 5/20\n",
            "9/9 [==============================] - 0s 16ms/step - loss: 9.2143 - mse: 9.2143 - val_loss: 7.1751 - val_mse: 7.1751\n",
            "Epoch 6/20\n",
            "9/9 [==============================] - 0s 23ms/step - loss: 6.0063 - mse: 6.0063 - val_loss: 4.0974 - val_mse: 4.0974\n",
            "Epoch 7/20\n",
            "9/9 [==============================] - 0s 15ms/step - loss: 3.0646 - mse: 3.0646 - val_loss: 1.6376 - val_mse: 1.6376\n",
            "Epoch 8/20\n",
            "9/9 [==============================] - 0s 11ms/step - loss: 1.0150 - mse: 1.0150 - val_loss: 0.3876 - val_mse: 0.3876\n",
            "Epoch 9/20\n",
            "9/9 [==============================] - 0s 14ms/step - loss: 0.2350 - mse: 0.2350 - val_loss: 0.2099 - val_mse: 0.2099\n",
            "Epoch 10/20\n",
            "9/9 [==============================] - 0s 13ms/step - loss: 0.2130 - mse: 0.2130 - val_loss: 0.2438 - val_mse: 0.2438\n",
            "Epoch 11/20\n",
            "9/9 [==============================] - 0s 13ms/step - loss: 0.1814 - mse: 0.1814 - val_loss: 0.1458 - val_mse: 0.1458\n",
            "Epoch 12/20\n",
            "9/9 [==============================] - 0s 21ms/step - loss: 0.1021 - mse: 0.1021 - val_loss: 0.0877 - val_mse: 0.0877\n",
            "Epoch 13/20\n",
            "9/9 [==============================] - 0s 16ms/step - loss: 0.0724 - mse: 0.0724 - val_loss: 0.0720 - val_mse: 0.0720\n",
            "Epoch 14/20\n",
            "9/9 [==============================] - 0s 14ms/step - loss: 0.0618 - mse: 0.0618 - val_loss: 0.0625 - val_mse: 0.0625\n",
            "Epoch 15/20\n",
            "9/9 [==============================] - 0s 17ms/step - loss: 0.0515 - mse: 0.0515 - val_loss: 0.0585 - val_mse: 0.0585\n",
            "Epoch 16/20\n",
            "9/9 [==============================] - 0s 11ms/step - loss: 0.0464 - mse: 0.0464 - val_loss: 0.0567 - val_mse: 0.0567\n",
            "Epoch 17/20\n",
            "9/9 [==============================] - 0s 17ms/step - loss: 0.0433 - mse: 0.0433 - val_loss: 0.0548 - val_mse: 0.0548\n",
            "Epoch 18/20\n",
            "9/9 [==============================] - 0s 15ms/step - loss: 0.0405 - mse: 0.0405 - val_loss: 0.0521 - val_mse: 0.0521\n",
            "Epoch 19/20\n",
            "9/9 [==============================] - 0s 17ms/step - loss: 0.0392 - mse: 0.0392 - val_loss: 0.0503 - val_mse: 0.0503\n",
            "Epoch 20/20\n",
            "9/9 [==============================] - 0s 17ms/step - loss: 0.0377 - mse: 0.0377 - val_loss: 0.0499 - val_mse: 0.0499\n"
          ]
        }
      ]
    },
    {
      "cell_type": "code",
      "source": [
        "# Evaluate the model\n",
        "test_loss, test_mse = model.evaluate(X_test, y_test)"
      ],
      "metadata": {
        "colab": {
          "base_uri": "https://localhost:8080/"
        },
        "id": "UHpIIoz-SQqt",
        "outputId": "b0069298-3f6a-457f-85f9-0c6ba23673b4"
      },
      "execution_count": null,
      "outputs": [
        {
          "output_type": "stream",
          "name": "stdout",
          "text": [
            "3/3 [==============================] - 0s 5ms/step - loss: 0.0363 - mse: 0.0363\n"
          ]
        }
      ]
    },
    {
      "cell_type": "code",
      "source": [
        "print(\"Test Loss:\", test_loss)\n",
        "print(\"Test MSE:\", test_mse)\n"
      ],
      "metadata": {
        "colab": {
          "base_uri": "https://localhost:8080/"
        },
        "id": "-MfZ6zT_cHrX",
        "outputId": "65be0d65-d48a-4035-e4b8-de69c476594c"
      },
      "execution_count": null,
      "outputs": [
        {
          "output_type": "stream",
          "name": "stdout",
          "text": [
            "Test Loss: 0.0362962931394577\n",
            "Test MSE: 0.0362962931394577\n"
          ]
        }
      ]
    },
    {
      "cell_type": "code",
      "source": [
        "import matplotlib.pyplot as plt\n",
        "plt.plot(history.history['mse'])\n",
        "plt.plot(history.history['val_mse'])\n",
        "plt.title('Model MSE')\n",
        "plt.ylabel('MSE')\n",
        "plt.xlabel('Epoch')\n",
        "plt.legend(['Train', 'Validation'], loc='upper left')\n",
        "plt.show()\n"
      ],
      "metadata": {
        "colab": {
          "base_uri": "https://localhost:8080/",
          "height": 472
        },
        "id": "DltAfgXRSj8U",
        "outputId": "578e5e5b-a1a6-46fa-e7bb-652a5a451b84"
      },
      "execution_count": null,
      "outputs": [
        {
          "output_type": "display_data",
          "data": {
            "text/plain": [
              "<Figure size 640x480 with 1 Axes>"
            ],
            "image/png": "[encoded data removed]"
          },
          "metadata": {}
        }
      ]
    },
    {
      "cell_type": "code",
      "source": [
        "import matplotlib.pyplot as plt\n",
        "plt.plot(history.history['loss'])\n",
        "plt.plot(history.history['val_loss'])\n",
        "plt.title('model loss')\n",
        "plt.ylabel('loss')\n",
        "plt.xlabel('epoch')\n",
        "plt.legend(['train', 'validation'], loc='upper left')\n",
        "plt.show()"
      ],
      "metadata": {
        "colab": {
          "base_uri": "https://localhost:8080/",
          "height": 472
        },
        "id": "KLtiBAoCSVFT",
        "outputId": "38d39574-73a8-40f0-cf5d-bf4f424c53fa"
      },
      "execution_count": null,
      "outputs": [
        {
          "output_type": "display_data",
          "data": {
            "text/plain": [
              "<Figure size 640x480 with 1 Axes>"
            ],
            "image/png": "[encoded data removed]"
          },
          "metadata": {}
        }
      ]
    },
    {
      "cell_type": "code",
      "source": [
        "def recommend_places(model, data_place, city, category):\n",
        "    # Filter berdasarkan city dan category yang dipilih\n",
        "    filtered_places = data_place[(data_place['City'] == city) & (data_place['Category'] == category)]\n",
        "\n",
        "    # Ambil 20 tempat teratas setelah melakukan filtering\n",
        "    recommendations = filtered_places[['Place_Name', 'City','Description']].head(20)\n",
        "\n",
        "    return recommendations\n",
        "\n",
        "recommendations = recommend_places(model, df_places, \"Jakarta\", \"Budaya\")\n",
        "recommendations\n"
      ],
      "metadata": {
        "colab": {
          "base_uri": "https://localhost:8080/",
          "height": 676
        },
        "id": "uXN1S2F6Tjed",
        "outputId": "8296fede-d23f-44f3-81f7-aaeac0d9ce82"
      },
      "execution_count": null,
      "outputs": [
        {
          "output_type": "execute_result",
          "data": {
            "text/plain": [
              "                                           Place_Name     City  \\\n",
              "0                                    Monumen Nasional  Jakarta   \n",
              "1                                            Kota Tua  Jakarta   \n",
              "15                                Jembatan Kota Intan  Jakarta   \n",
              "16                                  Museum Fatahillah  Jakarta   \n",
              "17                              Museum Bank Indonesia  Jakarta   \n",
              "19                              Museum Taman Prasasti  Jakarta   \n",
              "20                                      Museum Wayang  Jakarta   \n",
              "23                                    Museum Nasional  Jakarta   \n",
              "31                                       Setu Babakan  Jakarta   \n",
              "37                   Istana Negara Republik Indonesia  Jakarta   \n",
              "38  Museum Macan (Modern and Contemporary Art in N...  Jakarta   \n",
              "39                          Galeri Nasional Indonesia  Jakarta   \n",
              "40                              Museum Bahari Jakarta  Jakarta   \n",
              "41                        Museum Seni Rupa dan Kramik  Jakarta   \n",
              "43                             Monumen Selamat Datang  Jakarta   \n",
              "47                               Taman Ismail Marzuki  Jakarta   \n",
              "48                              Galeri Indonesia Kaya  Jakarta   \n",
              "49                                    Museum Joang 45  Jakarta   \n",
              "51                                       Kampung Cina  Jakarta   \n",
              "52                                     Rumah Sipitung  Jakarta   \n",
              "\n",
              "                                          Description  \n",
              "0   Monumen Nasional atau yang populer disingkat d...  \n",
              "1   Kota tua di Jakarta, yang juga bernama Kota Tu...  \n",
              "15  Jembatan Kota Intan adalah jembatan tertua di ...  \n",
              "16  Museum Fatahillah memiliki nama resmi Museum S...  \n",
              "17  Museum Bank Indonesia adalah sebuah museum di ...  \n",
              "19  Museum Taman Prasasti adalah sebuah museum cag...  \n",
              "20  Museum Wayang adalah sebuah museum yang berlok...  \n",
              "23  Museum Nasional Republik Indonesia atau Museum...  \n",
              "31  Setu Babakan atau Danau Babakan terletak di Sr...  \n",
              "37  Istana Negara merupakan pusat kegiatan pemerin...  \n",
              "38  Museum Seni Modern dan Kontemporer di Nusantar...  \n",
              "39  Galeri Nasional Indonesia (bahasa Inggris: Nat...  \n",
              "40  Museum Bahari adalah museum yang menyimpan kol...  \n",
              "41  Museum Seni Rupa dan Keramik (Indonesia: Museu...  \n",
              "43  Monumen Selamat Datang adalah sebuah monumen y...  \n",
              "47  Pusat Kesenian Jakarta Taman Ismail Marzuki ya...  \n",
              "48  Galeri Indonesia Kaya (disingkat GIK) adalah r...  \n",
              "49  Gedung Joang '45 atau Museum Joang 45 adalah s...  \n",
              "51  KAMPUNG China adalah hunian dan kawasan perdag...  \n",
              "52  Rumah Si Pitung di Marunda, Jakarta Utara, Ind...  "
            ],
            "text/html": [
              "\n",
              "  <div id=\"df-06df209a-7af9-4e7c-9d0c-0a4d2b3d9f11\" class=\"colab-df-container\">\n",
              "    <div>\n",
              "<style scoped>\n",
              "    .dataframe tbody tr th:only-of-type {\n",
              "        vertical-align: middle;\n",
              "    }\n",
              "\n",
              "    .dataframe tbody tr th {\n",
              "        vertical-align: top;\n",
              "    }\n",
              "\n",
              "    .dataframe thead th {\n",
              "        text-align: right;\n",
              "    }\n",
              "</style>\n",
              "<table border=\"1\" class=\"dataframe\">\n",
              "  <thead>\n",
              "    <tr style=\"text-align: right;\">\n",
              "      <th></th>\n",
              "      <th>Place_Name</th>\n",
              "      <th>City</th>\n",
              "      <th>Description</th>\n",
              "    </tr>\n",
              "  </thead>\n",
              "  <tbody>\n",
              "    <tr>\n",
              "      <th>0</th>\n",
              "      <td>Monumen Nasional</td>\n",
              "      <td>Jakarta</td>\n",
              "      <td>Monumen Nasional atau yang populer disingkat d...</td>\n",
              "    </tr>\n",
              "    <tr>\n",
              "      <th>1</th>\n",
              "      <td>Kota Tua</td>\n",
              "      <td>Jakarta</td>\n",
              "      <td>Kota tua di Jakarta, yang juga bernama Kota Tu...</td>\n",
              "    </tr>\n",
              "    <tr>\n",
              "      <th>15</th>\n",
              "      <td>Jembatan Kota Intan</td>\n",
              "      <td>Jakarta</td>\n",
              "      <td>Jembatan Kota Intan adalah jembatan tertua di ...</td>\n",
              "    </tr>\n",
              "    <tr>\n",
              "      <th>16</th>\n",
              "      <td>Museum Fatahillah</td>\n",
              "      <td>Jakarta</td>\n",
              "      <td>Museum Fatahillah memiliki nama resmi Museum S...</td>\n",
              "    </tr>\n",
              "    <tr>\n",
              "      <th>17</th>\n",
              "      <td>Museum Bank Indonesia</td>\n",
              "      <td>Jakarta</td>\n",
              "      <td>Museum Bank Indonesia adalah sebuah museum di ...</td>\n",
              "    </tr>\n",
              "    <tr>\n",
              "      <th>19</th>\n",
              "      <td>Museum Taman Prasasti</td>\n",
              "      <td>Jakarta</td>\n",
              "      <td>Museum Taman Prasasti adalah sebuah museum cag...</td>\n",
              "    </tr>\n",
              "    <tr>\n",
              "      <th>20</th>\n",
              "      <td>Museum Wayang</td>\n",
              "      <td>Jakarta</td>\n",
              "      <td>Museum Wayang adalah sebuah museum yang berlok...</td>\n",
              "    </tr>\n",
              "    <tr>\n",
              "      <th>23</th>\n",
              "      <td>Museum Nasional</td>\n",
              "      <td>Jakarta</td>\n",
              "      <td>Museum Nasional Republik Indonesia atau Museum...</td>\n",
              "    </tr>\n",
              "    <tr>\n",
              "      <th>31</th>\n",
              "      <td>Setu Babakan</td>\n",
              "      <td>Jakarta</td>\n",
              "      <td>Setu Babakan atau Danau Babakan terletak di Sr...</td>\n",
              "    </tr>\n",
              "    <tr>\n",
              "      <th>37</th>\n",
              "      <td>Istana Negara Republik Indonesia</td>\n",
              "      <td>Jakarta</td>\n",
              "      <td>Istana Negara merupakan pusat kegiatan pemerin...</td>\n",
              "    </tr>\n",
              "    <tr>\n",
              "      <th>38</th>\n",
              "      <td>Museum Macan (Modern and Contemporary Art in N...</td>\n",
              "      <td>Jakarta</td>\n",
              "      <td>Museum Seni Modern dan Kontemporer di Nusantar...</td>\n",
              "    </tr>\n",
              "    <tr>\n",
              "      <th>39</th>\n",
              "      <td>Galeri Nasional Indonesia</td>\n",
              "      <td>Jakarta</td>\n",
              "      <td>Galeri Nasional Indonesia (bahasa Inggris: Nat...</td>\n",
              "    </tr>\n",
              "    <tr>\n",
              "      <th>40</th>\n",
              "      <td>Museum Bahari Jakarta</td>\n",
              "      <td>Jakarta</td>\n",
              "      <td>Museum Bahari adalah museum yang menyimpan kol...</td>\n",
              "    </tr>\n",
              "    <tr>\n",
              "      <th>41</th>\n",
              "      <td>Museum Seni Rupa dan Kramik</td>\n",
              "      <td>Jakarta</td>\n",
              "      <td>Museum Seni Rupa dan Keramik (Indonesia: Museu...</td>\n",
              "    </tr>\n",
              "    <tr>\n",
              "      <th>43</th>\n",
              "      <td>Monumen Selamat Datang</td>\n",
              "      <td>Jakarta</td>\n",
              "      <td>Monumen Selamat Datang adalah sebuah monumen y...</td>\n",
              "    </tr>\n",
              "    <tr>\n",
              "      <th>47</th>\n",
              "      <td>Taman Ismail Marzuki</td>\n",
              "      <td>Jakarta</td>\n",
              "      <td>Pusat Kesenian Jakarta Taman Ismail Marzuki ya...</td>\n",
              "    </tr>\n",
              "    <tr>\n",
              "      <th>48</th>\n",
              "      <td>Galeri Indonesia Kaya</td>\n",
              "      <td>Jakarta</td>\n",
              "      <td>Galeri Indonesia Kaya (disingkat GIK) adalah r...</td>\n",
              "    </tr>\n",
              "    <tr>\n",
              "      <th>49</th>\n",
              "      <td>Museum Joang 45</td>\n",
              "      <td>Jakarta</td>\n",
              "      <td>Gedung Joang '45 atau Museum Joang 45 adalah s...</td>\n",
              "    </tr>\n",
              "    <tr>\n",
              "      <th>51</th>\n",
              "      <td>Kampung Cina</td>\n",
              "      <td>Jakarta</td>\n",
              "      <td>KAMPUNG China adalah hunian dan kawasan perdag...</td>\n",
              "    </tr>\n",
              "    <tr>\n",
              "      <th>52</th>\n",
              "      <td>Rumah Sipitung</td>\n",
              "      <td>Jakarta</td>\n",
              "      <td>Rumah Si Pitung di Marunda, Jakarta Utara, Ind...</td>\n",
              "    </tr>\n",
              "  </tbody>\n",
              "</table>\n",
              "</div>\n",
              "    <div class=\"colab-df-buttons\">\n",
              "\n",
              "  <div class=\"colab-df-container\">\n",
              "    <button class=\"colab-df-convert\" onclick=\"convertToInteractive('df-06df209a-7af9-4e7c-9d0c-0a4d2b3d9f11')\"\n",
              "            title=\"Convert this dataframe to an interactive table.\"\n",
              "            style=\"display:none;\">\n",
              "\n",
              "  <svg xmlns=\"http://www.w3.org/2000/svg\" height=\"24px\" viewBox=\"0 -960 960 960\">\n",
              "    <path d=\"M120-120v-720h720v720H120Zm60-500h600v-160H180v160Zm220 220h160v-160H400v160Zm0 220h160v-160H400v160ZM180-400h160v-160H180v160Zm440 0h160v-160H620v160ZM180-180h160v-160H180v160Zm440 0h160v-160H620v160Z\"/>\n",
              "  </svg>\n",
              "    </button>\n",
              "\n",
              "  <style>\n",
              "    .colab-df-container {\n",
              "      display:flex;\n",
              "      gap: 12px;\n",
              "    }\n",
              "\n",
              "    .colab-df-convert {\n",
              "      background-color: #E8F0FE;\n",
              "      border: none;\n",
              "      border-radius: 50%;\n",
              "      cursor: pointer;\n",
              "      display: none;\n",
              "      fill: #1967D2;\n",
              "      height: 32px;\n",
              "      padding: 0 0 0 0;\n",
              "      width: 32px;\n",
              "    }\n",
              "\n",
              "    .colab-df-convert:hover {\n",
              "      background-color: #E2EBFA;\n",
              "      box-shadow: 0px 1px 2px rgba(60, 64, 67, 0.3), 0px 1px 3px 1px rgba(60, 64, 67, 0.15);\n",
              "      fill: #174EA6;\n",
              "    }\n",
              "\n",
              "    .colab-df-buttons div {\n",
              "      margin-bottom: 4px;\n",
              "    }\n",
              "\n",
              "    [theme=dark] .colab-df-convert {\n",
              "      background-color: #3B4455;\n",
              "      fill: #D2E3FC;\n",
              "    }\n",
              "\n",
              "    [theme=dark] .colab-df-convert:hover {\n",
              "      background-color: #434B5C;\n",
              "      box-shadow: 0px 1px 3px 1px rgba(0, 0, 0, 0.15);\n",
              "      filter: drop-shadow(0px 1px 2px rgba(0, 0, 0, 0.3));\n",
              "      fill: #FFFFFF;\n",
              "    }\n",
              "  </style>\n",
              "\n",
              "    <script>\n",
              "      const buttonEl =\n",
              "        document.querySelector('#df-06df209a-7af9-4e7c-9d0c-0a4d2b3d9f11 button.colab-df-convert');\n",
              "      buttonEl.style.display =\n",
              "        google.colab.kernel.accessAllowed ? 'block' : 'none';\n",
              "\n",
              "      async function convertToInteractive(key) {\n",
              "        const element = document.querySelector('#df-06df209a-7af9-4e7c-9d0c-0a4d2b3d9f11');\n",
              "        const dataTable =\n",
              "          await google.colab.kernel.invokeFunction('convertToInteractive',\n",
              "                                                    [key], {});\n",
              "        if (!dataTable) return;\n",
              "\n",
              "        const docLinkHtml = 'Like what you see? Visit the ' +\n",
              "          '<a target=\"_blank\" href=https://colab.research.google.com/notebooks/data_table.ipynb>data table notebook</a>'\n",
              "          + ' to learn more about interactive tables.';\n",
              "        element.innerHTML = '';\n",
              "        dataTable['output_type'] = 'display_data';\n",
              "        await google.colab.output.renderOutput(dataTable, element);\n",
              "        const docLink = document.createElement('div');\n",
              "        docLink.innerHTML = docLinkHtml;\n",
              "        element.appendChild(docLink);\n",
              "      }\n",
              "    </script>\n",
              "  </div>\n",
              "\n",
              "\n",
              "<div id=\"df-efcccb3c-dc4e-42d8-9726-a46e2accc590\">\n",
              "  <button class=\"colab-df-quickchart\" onclick=\"quickchart('df-efcccb3c-dc4e-42d8-9726-a46e2accc590')\"\n",
              "            title=\"Suggest charts\"\n",
              "            style=\"display:none;\">\n",
              "\n",
              "<svg xmlns=\"http://www.w3.org/2000/svg\" height=\"24px\"viewBox=\"0 0 24 24\"\n",
              "     width=\"24px\">\n",
              "    <g>\n",
              "        <path d=\"M19 3H5c-1.1 0-2 .9-2 2v14c0 1.1.9 2 2 2h14c1.1 0 2-.9 2-2V5c0-1.1-.9-2-2-2zM9 17H7v-7h2v7zm4 0h-2V7h2v10zm4 0h-2v-4h2v4z\"/>\n",
              "    </g>\n",
              "</svg>\n",
              "  </button>\n",
              "\n",
              "<style>\n",
              "  .colab-df-quickchart {\n",
              "      --bg-color: #E8F0FE;\n",
              "      --fill-color: #1967D2;\n",
              "      --hover-bg-color: #E2EBFA;\n",
              "      --hover-fill-color: #174EA6;\n",
              "      --disabled-fill-color: #AAA;\n",
              "      --disabled-bg-color: #DDD;\n",
              "  }\n",
              "\n",
              "  [theme=dark] .colab-df-quickchart {\n",
              "      --bg-color: #3B4455;\n",
              "      --fill-color: #D2E3FC;\n",
              "      --hover-bg-color: #434B5C;\n",
              "      --hover-fill-color: #FFFFFF;\n",
              "      --disabled-bg-color: #3B4455;\n",
              "      --disabled-fill-color: #666;\n",
              "  }\n",
              "\n",
              "  .colab-df-quickchart {\n",
              "    background-color: var(--bg-color);\n",
              "    border: none;\n",
              "    border-radius: 50%;\n",
              "    cursor: pointer;\n",
              "    display: none;\n",
              "    fill: var(--fill-color);\n",
              "    height: 32px;\n",
              "    padding: 0;\n",
              "    width: 32px;\n",
              "  }\n",
              "\n",
              "  .colab-df-quickchart:hover {\n",
              "    background-color: var(--hover-bg-color);\n",
              "    box-shadow: 0 1px 2px rgba(60, 64, 67, 0.3), 0 1px 3px 1px rgba(60, 64, 67, 0.15);\n",
              "    fill: var(--button-hover-fill-color);\n",
              "  }\n",
              "\n",
              "  .colab-df-quickchart-complete:disabled,\n",
              "  .colab-df-quickchart-complete:disabled:hover {\n",
              "    background-color: var(--disabled-bg-color);\n",
              "    fill: var(--disabled-fill-color);\n",
              "    box-shadow: none;\n",
              "  }\n",
              "\n",
              "  .colab-df-spinner {\n",
              "    border: 2px solid var(--fill-color);\n",
              "    border-color: transparent;\n",
              "    border-bottom-color: var(--fill-color);\n",
              "    animation:\n",
              "      spin 1s steps(1) infinite;\n",
              "  }\n",
              "\n",
              "  @keyframes spin {\n",
              "    0% {\n",
              "      border-color: transparent;\n",
              "      border-bottom-color: var(--fill-color);\n",
              "      border-left-color: var(--fill-color);\n",
              "    }\n",
              "    20% {\n",
              "      border-color: transparent;\n",
              "      border-left-color: var(--fill-color);\n",
              "      border-top-color: var(--fill-color);\n",
              "    }\n",
              "    30% {\n",
              "      border-color: transparent;\n",
              "      border-left-color: var(--fill-color);\n",
              "      border-top-color: var(--fill-color);\n",
              "      border-right-color: var(--fill-color);\n",
              "    }\n",
              "    40% {\n",
              "      border-color: transparent;\n",
              "      border-right-color: var(--fill-color);\n",
              "      border-top-color: var(--fill-color);\n",
              "    }\n",
              "    60% {\n",
              "      border-color: transparent;\n",
              "      border-right-color: var(--fill-color);\n",
              "    }\n",
              "    80% {\n",
              "      border-color: transparent;\n",
              "      border-right-color: var(--fill-color);\n",
              "      border-bottom-color: var(--fill-color);\n",
              "    }\n",
              "    90% {\n",
              "      border-color: transparent;\n",
              "      border-bottom-color: var(--fill-color);\n",
              "    }\n",
              "  }\n",
              "</style>\n",
              "\n",
              "  <script>\n",
              "    async function quickchart(key) {\n",
              "      const quickchartButtonEl =\n",
              "        document.querySelector('#' + key + ' button');\n",
              "      quickchartButtonEl.disabled = true;  // To prevent multiple clicks.\n",
              "      quickchartButtonEl.classList.add('colab-df-spinner');\n",
              "      try {\n",
              "        const charts = await google.colab.kernel.invokeFunction(\n",
              "            'suggestCharts', [key], {});\n",
              "      } catch (error) {\n",
              "        console.error('Error during call to suggestCharts:', error);\n",
              "      }\n",
              "      quickchartButtonEl.classList.remove('colab-df-spinner');\n",
              "      quickchartButtonEl.classList.add('colab-df-quickchart-complete');\n",
              "    }\n",
              "    (() => {\n",
              "      let quickchartButtonEl =\n",
              "        document.querySelector('#df-efcccb3c-dc4e-42d8-9726-a46e2accc590 button');\n",
              "      quickchartButtonEl.style.display =\n",
              "        google.colab.kernel.accessAllowed ? 'block' : 'none';\n",
              "    })();\n",
              "  </script>\n",
              "</div>\n",
              "    </div>\n",
              "  </div>\n"
            ],
            "application/vnd.google.colaboratory.intrinsic+json": {
              "type": "dataframe",
              "variable_name": "recommendations",
              "summary": "{\n  \"name\": \"recommendations\",\n  \"rows\": 20,\n  \"fields\": [\n    {\n      \"column\": \"Place_Name\",\n      \"properties\": {\n        \"dtype\": \"string\",\n        \"num_unique_values\": 20,\n        \"samples\": [\n          \"Monumen Nasional\",\n          \"Museum Joang 45\",\n          \"Taman Ismail Marzuki\"\n        ],\n        \"semantic_type\": \"\",\n        \"description\": \"\"\n      }\n    },\n    {\n      \"column\": \"City\",\n      \"properties\": {\n        \"dtype\": \"category\",\n        \"num_unique_values\": 1,\n        \"samples\": [\n          \"Jakarta\"\n        ],\n        \"semantic_type\": \"\",\n        \"description\": \"\"\n      }\n    },\n    {\n      \"column\": \"Description\",\n      \"properties\": {\n        \"dtype\": \"string\",\n        \"num_unique_values\": 20,\n        \"samples\": [\n          \"Monumen Nasional atau yang populer disingkat dengan Monas atau Tugu Monas adalah monumen peringatan setinggi 132 meter (433 kaki) yang didirikan untuk mengenang perlawanan dan perjuangan rakyat Indonesia untuk merebut kemerdekaan dari pemerintahan kolonial Hindia Belanda. Pembangunan monumen ini dimulai pada tanggal 17 Agustus 1961 di bawah perintah presiden Soekarno dan dibuka untuk umum pada tanggal 12 Juli 1975. Tugu ini dimahkotai lidah api yang dilapisi lembaran emas yang melambangkan semangat perjuangan yang menyala-nyala. Monumen Nasional terletak tepat di tengah Lapangan Medan Merdeka, Jakarta Pusat.\"\n        ],\n        \"semantic_type\": \"\",\n        \"description\": \"\"\n      }\n    }\n  ]\n}"
            }
          },
          "metadata": {},
          "execution_count": 52
        }
      ]
    },
    {
      "cell_type": "code",
      "source": [
        "export_dir = \"./modelwesataone\"\n",
        "tf.saved_model.save(model, export_dir = export_dir)"
      ],
      "metadata": {
        "id": "Wzj1d9kuX7kJ"
      },
      "execution_count": null,
      "outputs": []
    },
    {
      "cell_type": "code",
      "source": [
        "optimization = tf.lite.Optimize.DEFAULT\n",
        "converter = tf.lite.TFLiteConverter.from_saved_model(export_dir)\n",
        "converter.optimizations = [optimization]\n",
        "tflite_model = converter.convert()"
      ],
      "metadata": {
        "id": "E45IrKlbYEn0"
      },
      "execution_count": null,
      "outputs": []
    },
    {
      "cell_type": "code",
      "source": [
        "import pathlib\n",
        "tflite_model_file = pathlib.Path('./modelwesataone.tflite')\n",
        "tflite_model_file.write_bytes(tflite_model)"
      ],
      "metadata": {
        "colab": {
          "base_uri": "https://localhost:8080/"
        },
        "id": "OAkgYr-RYHZs",
        "outputId": "b5355bc6-9777-46f7-a446-1008ac7e8a1b"
      },
      "execution_count": null,
      "outputs": [
        {
          "output_type": "execute_result",
          "data": {
            "text/plain": [
              "7352"
            ]
          },
          "metadata": {},
          "execution_count": 22
        }
      ]
    },
    {
      "cell_type": "code",
      "source": [],
      "metadata": {
        "id": "WptVcd94dLbu"
      },
      "execution_count": null,
      "outputs": []
    }
  ]
}